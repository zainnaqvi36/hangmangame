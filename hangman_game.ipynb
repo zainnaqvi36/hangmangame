{
  "cells": [
    {
      "cell_type": "code",
      "execution_count": null,
      "metadata": {
        "colab": {
          "base_uri": "https://localhost:8080/"
        },
        "id": "5DBcwiqWNc7F",
        "outputId": "9101d2bb-6474-4ad7-9d15-5ecd4d690d45"
      },
      "outputs": [
        {
          "name": "stdout",
          "output_type": "stream",
          "text": [
            "enter a guess letter which computer chosesc\n",
            "right\n",
            "wrong\n",
            "wrong\n",
            "wrong\n"
          ]
        }
      ],
      "source": [
        "word_list=[\"cake\",\"fruit\",\"college\"]\n",
        "\n",
        "import random\n",
        "chosen_word=random.choice(word_list)\n",
        "guess=input(\"enter a guess letter which computer choses\").lower()\n",
        "#check if letter user guess is one of letter in the chosen word from above list\n",
        "for letter in chosen_word:\n",
        "    if letter==guess:\n",
        "        print(\"right\")\n",
        "    else:\n",
        "        print(\"wrong\")\n"
      ]
    },
    {
      "cell_type": "markdown",
      "metadata": {
        "id": "VlRpnZ7j-Wy9"
      },
      "source": [
        "for adding blanks"
      ]
    },
    {
      "cell_type": "code",
      "execution_count": null,
      "metadata": {
        "colab": {
          "base_uri": "https://localhost:8080/"
        },
        "id": "ST3IZQ1b-j8m",
        "outputId": "5d93c6a1-90fc-49a4-c30e-562a37661483"
      },
      "outputs": [
        {
          "name": "stdout",
          "output_type": "stream",
          "text": [
            "the chosen word iscollege.\n",
            "['_', '_', '_', '_', '_', '_', '_']\n",
            "enter a guess letter which computer choseso\n",
            "['_', '_', '_', '_', '_', '_', '_']\n"
          ]
        }
      ],
      "source": [
        "word_list=[\"cake\",\"fruit\",\"college\"]\n",
        "import random\n",
        "chosen_word=random.choice(word_list)\n",
        "print(f'the chosen word is{chosen_word}.')\n",
        "display=[]\n",
        "for _ in range(len(chosen_word)):\n",
        "    display+=\"_\"\n",
        "print(display)\n",
        "guess=input(\"enter a guess letter which computer choses\").lower()\n",
        "#check if letter user guess is one of letter in the chosen word from above list\n",
        "for position in range(len(chosen_word)):\n",
        "     letter==chosen_word[position]\n",
        "     if letter==guess:\n",
        "        display[position]=letter\n",
        "\n",
        "\n",
        "print(display)"
      ]
    },
    {
      "cell_type": "markdown",
      "metadata": {
        "id": "JvV0JC0bOUfB"
      },
      "source": [
        "CHECKING IF USER WON OR LOSS"
      ]
    },
    {
      "cell_type": "code",
      "execution_count": null,
      "metadata": {
        "colab": {
          "background_save": true,
          "base_uri": "https://localhost:8080/"
        },
        "id": "2YwTwN4vOZZl",
        "outputId": "df4570f2-5000-435c-a63e-e876930bf4b4"
      },
      "outputs": [
        {
          "name": "stdout",
          "output_type": "stream",
          "text": [
            "the chosen word isfruit.\n",
            "['_', '_', '_', '_', '_']\n"
          ]
        }
      ],
      "source": [
        "word_list=[\"cake\",\"fruit\",\"college\"]\n",
        "import random\n",
        "chosen_word=random.choice(word_list)\n",
        "print(f'the chosen word is{chosen_word}.')\n",
        "display=[]\n",
        "for _ in range(len(chosen_word)):\n",
        "     display+=\"_\"\n",
        "print(display)\n",
        "end_of_game=False\n",
        "while not end_of_game:\n",
        "   guess=input(\"enter a guess letter which computer choses\").lower()\n",
        "   #check if letter user guess is one of letter in the chosen word from above list\n",
        "   for position in range(len(chosen_word)):\n",
        "      letter=chosen_word[position]\n",
        "      if letter==guess:\n",
        "        display[position]=letter\n",
        "\n",
        "print(display)\n",
        "if \"-\" not in display:\n",
        "  end_of_game=True\n",
        "  print(\"you win\")\n"
      ]
    },
    {
      "cell_type": "markdown",
      "metadata": {
        "id": "n4bGNsgOmC5p"
      },
      "source": [
        "KEEPING TRACK OF PLAYER LIVES:"
      ]
    },
    {
      "cell_type": "code",
      "execution_count": 2,
      "metadata": {
        "id": "B7MBbfYPmKwN",
        "colab": {
          "base_uri": "https://localhost:8080/"
        },
        "outputId": "ab7a881e-6eb9-42fc-c932-92b4aa41d373"
      },
      "outputs": [
        {
          "output_type": "stream",
          "name": "stdout",
          "text": [
            "The chosen word is cake.\n",
            "['_', '_', '_', '_']\n",
            "Enter a guess letter: k\n",
            "['_', '_', 'k', '_']\n",
            "Enter a guess letter: c\n",
            "['c', '_', 'k', '_']\n",
            "Enter a guess letter: e\n",
            "['c', '_', 'k', 'e']\n",
            "Enter a guess letter: t\n",
            "Wrong guess! Lives remaining: 5\n",
            "['c', '_', 'k', 'e']\n",
            "Enter a guess letter: a\n",
            "['c', 'a', 'k', 'e']\n",
            "You win!\n",
            "['c', 'a', 'k', 'e']\n",
            "you win\n"
          ]
        }
      ],
      "source": [
        "word_list = [\"cake\", \"fruit\", \"college\"]\n",
        "import random\n",
        "\n",
        "chosen_word = random.choice(word_list)\n",
        "print(f'The chosen word is {chosen_word}.')\n",
        "display = [\"_\" for _ in range(len(chosen_word))]\n",
        "lives = 6\n",
        "\n",
        "print(display)\n",
        "\n",
        "end_of_game = False\n",
        "\n",
        "while not end_of_game and lives > 0:\n",
        "    guess = input(\"Enter a guess letter: \").lower()\n",
        "\n",
        "    # Check if the guessed letter is one of the letters in the chosen word\n",
        "    letter_found = False\n",
        "    for position in range(len(chosen_word)):\n",
        "        letter = chosen_word[position]\n",
        "        if letter == guess:\n",
        "            display[position] = letter\n",
        "            letter_found = True\n",
        "\n",
        "    if not letter_found:\n",
        "        lives -= 1\n",
        "        print(f\"Wrong guess! Lives remaining: {lives}\")\n",
        "\n",
        "    print(display)\n",
        "\n",
        "    if \"_\" not in display:\n",
        "        end_of_game = True\n",
        "        print(\"You win!\")\n",
        "\n",
        "if lives == 0:\n",
        "    print(\"You lose! No lives remaining.\")\n",
        "\n",
        "\n",
        "\n",
        "\n",
        "print(display)\n",
        "if \"-\" not in display:\n",
        "  end_of_game=True\n",
        "  print(\"you win\")\n"
      ]
    }
  ],
  "metadata": {
    "colab": {
      "provenance": []
    },
    "kernelspec": {
      "display_name": "Python 3",
      "name": "python3"
    },
    "language_info": {
      "name": "python"
    }
  },
  "nbformat": 4,
  "nbformat_minor": 0
}